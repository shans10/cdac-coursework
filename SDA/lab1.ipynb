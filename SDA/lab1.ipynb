{
 "cells": [
  {
   "cell_type": "code",
   "execution_count": 7,
   "id": "2ae66304-45b9-489c-a6db-39672a4f9c21",
   "metadata": {},
   "outputs": [],
   "source": [
    "import os\n",
    "import pandas as pd"
   ]
  },
  {
   "cell_type": "code",
   "execution_count": 11,
   "id": "a5c500b7-e430-4879-a5df-e4f399572244",
   "metadata": {},
   "outputs": [],
   "source": [
    "# Read the data from the file gapminder.csv\n",
    "data = pd.read_csv(\"C:/Users/heman/Documents/Jupyter Notebook/dataset/gapminder.csv\")"
   ]
  },
  {
   "cell_type": "code",
   "execution_count": 12,
   "id": "20236639-b21a-4d47-8419-8e34d478ca5f",
   "metadata": {},
   "outputs": [
    {
     "name": "stdout",
     "output_type": "stream",
     "text": [
      "   Unnamed: 0      country continent  year  lifeExp       pop   gdpPercap\n",
      "0           1  Afghanistan      Asia  1952   28.801   8425333  779.445314\n",
      "1           2  Afghanistan      Asia  1957   30.332   9240934  820.853030\n",
      "2           3  Afghanistan      Asia  1962   31.997  10267083  853.100710\n",
      "3           4  Afghanistan      Asia  1967   34.020  11537966  836.197138\n",
      "4           5  Afghanistan      Asia  1972   36.088  13079460  739.981106\n"
     ]
    }
   ],
   "source": [
    "# Verify that the data has been loaded correctly\n",
    "print(data.head())"
   ]
  },
  {
   "cell_type": "code",
   "execution_count": 13,
   "id": "a8311fbc-c15a-4ffa-b484-61314f9e2154",
   "metadata": {},
   "outputs": [],
   "source": [
    "# Replace missing values in 'lifeExp' with 0\n",
    "# data[\"lifeExp\"].fillna(0, inplace=True)"
   ]
  },
  {
   "cell_type": "code",
   "execution_count": 14,
   "id": "cdcb037d-ed67-46e3-95c0-9c6d7fea1475",
   "metadata": {},
   "outputs": [
    {
     "name": "stdout",
     "output_type": "stream",
     "text": [
      "Mean of lifeExp from all the data: 59.474439366197174\n"
     ]
    }
   ],
   "source": [
    "# Calculate the mean of lifeExp from all the data\n",
    "mean_all = data[\"lifeExp\"].mean()\n",
    "print(\"Mean of lifeExp from all the data:\", mean_all)"
   ]
  },
  {
   "cell_type": "code",
   "execution_count": 15,
   "id": "7a75f0cb-0775-4525-92ec-8880eabab8b3",
   "metadata": {},
   "outputs": [
    {
     "name": "stdout",
     "output_type": "stream",
     "text": [
      "\n",
      "Mean of lifeExp by country:\n",
      "country\n",
      "Afghanistan           37.478833\n",
      "Albania               68.432917\n",
      "Algeria               59.030167\n",
      "Angola                37.883500\n",
      "Argentina             69.060417\n",
      "                        ...    \n",
      "Vietnam               57.479500\n",
      "West Bank and Gaza    60.328667\n",
      "Yemen, Rep.           46.780417\n",
      "Zambia                45.996333\n",
      "Zimbabwe              52.663167\n",
      "Name: lifeExp, Length: 142, dtype: float64\n"
     ]
    }
   ],
   "source": [
    "# Calculate the mean of lifeExp by country\n",
    "mean_country = data.groupby(\"country\")[\"lifeExp\"].mean()\n",
    "print(\"\\nMean of lifeExp by country:\")\n",
    "print(mean_country)"
   ]
  },
  {
   "cell_type": "code",
   "execution_count": 16,
   "id": "56bd3f3f-8b32-4373-9f86-da0fd67920ef",
   "metadata": {},
   "outputs": [
    {
     "name": "stdout",
     "output_type": "stream",
     "text": [
      "\n",
      "Mean of lifeExp by year:\n",
      "year\n",
      "1952    49.057620\n",
      "1957    51.507401\n",
      "1962    53.609249\n",
      "1967    55.678290\n",
      "1972    57.647386\n",
      "1977    59.570157\n",
      "1982    61.533197\n",
      "1987    63.212613\n",
      "1992    64.160338\n",
      "1997    65.014676\n",
      "2002    65.694923\n",
      "2007    67.007423\n",
      "Name: lifeExp, dtype: float64\n"
     ]
    }
   ],
   "source": [
    "# Calculate the mean of lifeExp by year\n",
    "mean_year = data.groupby(\"year\")[\"lifeExp\"].mean()\n",
    "print(\"\\nMean of lifeExp by year:\")\n",
    "print(mean_year)"
   ]
  },
  {
   "cell_type": "code",
   "execution_count": 17,
   "id": "0bb5fd31-fbff-429a-9aeb-baa1538674dd",
   "metadata": {},
   "outputs": [
    {
     "name": "stdout",
     "output_type": "stream",
     "text": [
      "\n",
      "Mean of lifeExp by continent:\n",
      "continent\n",
      "Africa      48.865330\n",
      "Americas    64.658737\n",
      "Asia        60.064903\n",
      "Europe      71.903686\n",
      "Oceania     74.326208\n",
      "Name: lifeExp, dtype: float64\n"
     ]
    }
   ],
   "source": [
    "# Calculate the mean of lifeExp by continent\n",
    "mean_continent = data.groupby(\"continent\")[\"lifeExp\"].mean()\n",
    "print(\"\\nMean of lifeExp by continent:\")\n",
    "print(mean_continent)"
   ]
  }
 ],
 "metadata": {
  "kernelspec": {
   "display_name": "Python 3 (ipykernel)",
   "language": "python",
   "name": "python3"
  },
  "language_info": {
   "codemirror_mode": {
    "name": "ipython",
    "version": 3
   },
   "file_extension": ".py",
   "mimetype": "text/x-python",
   "name": "python",
   "nbconvert_exporter": "python",
   "pygments_lexer": "ipython3",
   "version": "3.13.0"
  }
 },
 "nbformat": 4,
 "nbformat_minor": 5
}
